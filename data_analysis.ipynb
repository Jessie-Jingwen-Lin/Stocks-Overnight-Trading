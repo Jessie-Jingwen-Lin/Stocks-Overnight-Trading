{
 "cells": [
  {
   "cell_type": "code",
   "execution_count": 40,
   "metadata": {},
   "outputs": [],
   "source": [
    "import pandas as pd\n",
    "import pickle\n",
    "import matplotlib.pyplot as plt\n",
    "import numpy as np"
   ]
  },
  {
   "cell_type": "code",
   "execution_count": 2,
   "metadata": {},
   "outputs": [],
   "source": [
    "with open('stock_price_df.pkl', 'rb') as f:\n",
    "    df = pickle.load(f)"
   ]
  },
  {
   "cell_type": "code",
   "execution_count": 3,
   "metadata": {},
   "outputs": [
    {
     "data": {
      "text/html": [
       "<div>\n",
       "<style scoped>\n",
       "    .dataframe tbody tr th:only-of-type {\n",
       "        vertical-align: middle;\n",
       "    }\n",
       "\n",
       "    .dataframe tbody tr th {\n",
       "        vertical-align: top;\n",
       "    }\n",
       "\n",
       "    .dataframe thead tr th {\n",
       "        text-align: left;\n",
       "    }\n",
       "\n",
       "    .dataframe thead tr:last-of-type th {\n",
       "        text-align: right;\n",
       "    }\n",
       "</style>\n",
       "<table border=\"1\" class=\"dataframe\">\n",
       "  <thead>\n",
       "    <tr>\n",
       "      <th></th>\n",
       "      <th colspan=\"10\" halign=\"left\">10:30</th>\n",
       "      <th>...</th>\n",
       "      <th colspan=\"10\" halign=\"left\">14:30</th>\n",
       "    </tr>\n",
       "    <tr>\n",
       "      <th></th>\n",
       "      <th>AAA</th>\n",
       "      <th>AAC</th>\n",
       "      <th>AACG</th>\n",
       "      <th>AACI</th>\n",
       "      <th>AACIU</th>\n",
       "      <th>AACIW</th>\n",
       "      <th>AAIN</th>\n",
       "      <th>AAMC</th>\n",
       "      <th>AAME</th>\n",
       "      <th>AAON</th>\n",
       "      <th>...</th>\n",
       "      <th>ZIONP</th>\n",
       "      <th>ZIVO</th>\n",
       "      <th>ZIVOW</th>\n",
       "      <th>ZT</th>\n",
       "      <th>ZTAQU</th>\n",
       "      <th>ZVIA</th>\n",
       "      <th>ZVO</th>\n",
       "      <th>ZWRK</th>\n",
       "      <th>ZWRKU</th>\n",
       "      <th>ZWRKW</th>\n",
       "    </tr>\n",
       "    <tr>\n",
       "      <th>Datetime</th>\n",
       "      <th></th>\n",
       "      <th></th>\n",
       "      <th></th>\n",
       "      <th></th>\n",
       "      <th></th>\n",
       "      <th></th>\n",
       "      <th></th>\n",
       "      <th></th>\n",
       "      <th></th>\n",
       "      <th></th>\n",
       "      <th></th>\n",
       "      <th></th>\n",
       "      <th></th>\n",
       "      <th></th>\n",
       "      <th></th>\n",
       "      <th></th>\n",
       "      <th></th>\n",
       "      <th></th>\n",
       "      <th></th>\n",
       "      <th></th>\n",
       "      <th></th>\n",
       "    </tr>\n",
       "  </thead>\n",
       "  <tbody>\n",
       "    <tr>\n",
       "      <th>2020-07-27</th>\n",
       "      <td>NaN</td>\n",
       "      <td>NaN</td>\n",
       "      <td>NaN</td>\n",
       "      <td>NaN</td>\n",
       "      <td>NaN</td>\n",
       "      <td>NaN</td>\n",
       "      <td>NaN</td>\n",
       "      <td>NaN</td>\n",
       "      <td>1.8050</td>\n",
       "      <td>57.864498</td>\n",
       "      <td>...</td>\n",
       "      <td>NaN</td>\n",
       "      <td>NaN</td>\n",
       "      <td>NaN</td>\n",
       "      <td>NaN</td>\n",
       "      <td>NaN</td>\n",
       "      <td>NaN</td>\n",
       "      <td>3.8400</td>\n",
       "      <td>NaN</td>\n",
       "      <td>NaN</td>\n",
       "      <td>NaN</td>\n",
       "    </tr>\n",
       "    <tr>\n",
       "      <th>2020-07-28</th>\n",
       "      <td>NaN</td>\n",
       "      <td>NaN</td>\n",
       "      <td>1.17</td>\n",
       "      <td>NaN</td>\n",
       "      <td>NaN</td>\n",
       "      <td>NaN</td>\n",
       "      <td>NaN</td>\n",
       "      <td>NaN</td>\n",
       "      <td>1.8546</td>\n",
       "      <td>57.189999</td>\n",
       "      <td>...</td>\n",
       "      <td>NaN</td>\n",
       "      <td>NaN</td>\n",
       "      <td>NaN</td>\n",
       "      <td>NaN</td>\n",
       "      <td>NaN</td>\n",
       "      <td>NaN</td>\n",
       "      <td>3.7600</td>\n",
       "      <td>NaN</td>\n",
       "      <td>NaN</td>\n",
       "      <td>NaN</td>\n",
       "    </tr>\n",
       "    <tr>\n",
       "      <th>2020-07-29</th>\n",
       "      <td>NaN</td>\n",
       "      <td>NaN</td>\n",
       "      <td>1.08</td>\n",
       "      <td>NaN</td>\n",
       "      <td>NaN</td>\n",
       "      <td>NaN</td>\n",
       "      <td>NaN</td>\n",
       "      <td>NaN</td>\n",
       "      <td>NaN</td>\n",
       "      <td>57.770000</td>\n",
       "      <td>...</td>\n",
       "      <td>21.459999</td>\n",
       "      <td>0.105</td>\n",
       "      <td>NaN</td>\n",
       "      <td>NaN</td>\n",
       "      <td>NaN</td>\n",
       "      <td>NaN</td>\n",
       "      <td>3.7900</td>\n",
       "      <td>NaN</td>\n",
       "      <td>NaN</td>\n",
       "      <td>NaN</td>\n",
       "    </tr>\n",
       "    <tr>\n",
       "      <th>2020-07-30</th>\n",
       "      <td>NaN</td>\n",
       "      <td>NaN</td>\n",
       "      <td>1.08</td>\n",
       "      <td>NaN</td>\n",
       "      <td>NaN</td>\n",
       "      <td>NaN</td>\n",
       "      <td>NaN</td>\n",
       "      <td>NaN</td>\n",
       "      <td>1.8598</td>\n",
       "      <td>57.730000</td>\n",
       "      <td>...</td>\n",
       "      <td>21.669901</td>\n",
       "      <td>NaN</td>\n",
       "      <td>NaN</td>\n",
       "      <td>NaN</td>\n",
       "      <td>NaN</td>\n",
       "      <td>NaN</td>\n",
       "      <td>3.5699</td>\n",
       "      <td>NaN</td>\n",
       "      <td>NaN</td>\n",
       "      <td>NaN</td>\n",
       "    </tr>\n",
       "    <tr>\n",
       "      <th>2020-07-31</th>\n",
       "      <td>NaN</td>\n",
       "      <td>NaN</td>\n",
       "      <td>1.07</td>\n",
       "      <td>NaN</td>\n",
       "      <td>NaN</td>\n",
       "      <td>NaN</td>\n",
       "      <td>NaN</td>\n",
       "      <td>NaN</td>\n",
       "      <td>NaN</td>\n",
       "      <td>58.750000</td>\n",
       "      <td>...</td>\n",
       "      <td>NaN</td>\n",
       "      <td>NaN</td>\n",
       "      <td>NaN</td>\n",
       "      <td>NaN</td>\n",
       "      <td>NaN</td>\n",
       "      <td>NaN</td>\n",
       "      <td>4.0800</td>\n",
       "      <td>NaN</td>\n",
       "      <td>NaN</td>\n",
       "      <td>NaN</td>\n",
       "    </tr>\n",
       "  </tbody>\n",
       "</table>\n",
       "<p>5 rows × 9604 columns</p>\n",
       "</div>"
      ],
      "text/plain": [
       "           10:30                                                          ...  \\\n",
       "             AAA AAC  AACG AACI AACIU AACIW AAIN AAMC    AAME       AAON  ...   \n",
       "Datetime                                                                  ...   \n",
       "2020-07-27   NaN NaN   NaN  NaN   NaN   NaN  NaN  NaN  1.8050  57.864498  ...   \n",
       "2020-07-28   NaN NaN  1.17  NaN   NaN   NaN  NaN  NaN  1.8546  57.189999  ...   \n",
       "2020-07-29   NaN NaN  1.08  NaN   NaN   NaN  NaN  NaN     NaN  57.770000  ...   \n",
       "2020-07-30   NaN NaN  1.08  NaN   NaN   NaN  NaN  NaN  1.8598  57.730000  ...   \n",
       "2020-07-31   NaN NaN  1.07  NaN   NaN   NaN  NaN  NaN     NaN  58.750000  ...   \n",
       "\n",
       "                14:30                                                       \n",
       "                ZIONP   ZIVO ZIVOW  ZT ZTAQU ZVIA     ZVO ZWRK ZWRKU ZWRKW  \n",
       "Datetime                                                                    \n",
       "2020-07-27        NaN    NaN   NaN NaN   NaN  NaN  3.8400  NaN   NaN   NaN  \n",
       "2020-07-28        NaN    NaN   NaN NaN   NaN  NaN  3.7600  NaN   NaN   NaN  \n",
       "2020-07-29  21.459999  0.105   NaN NaN   NaN  NaN  3.7900  NaN   NaN   NaN  \n",
       "2020-07-30  21.669901    NaN   NaN NaN   NaN  NaN  3.5699  NaN   NaN   NaN  \n",
       "2020-07-31        NaN    NaN   NaN NaN   NaN  NaN  4.0800  NaN   NaN   NaN  \n",
       "\n",
       "[5 rows x 9604 columns]"
      ]
     },
     "execution_count": 3,
     "metadata": {},
     "output_type": "execute_result"
    }
   ],
   "source": [
    "df.head()"
   ]
  },
  {
   "cell_type": "code",
   "execution_count": 21,
   "metadata": {},
   "outputs": [],
   "source": [
    "morning_df = df['10:30']\n",
    "afternoon_df = df['14:30']"
   ]
  },
  {
   "cell_type": "code",
   "execution_count": 46,
   "metadata": {},
   "outputs": [],
   "source": [
    "def analyze_ticker(ticker):\n",
    "    ticker_today_morning_prices = morning_df[ticker].iloc[1:].values\n",
    "    ticker_yesterday_afternoon_prices = afternoon_df[ticker].iloc[:-1].values\n",
    "    dpr = (ticker_today_morning_prices - ticker_yesterday_afternoon_prices) / ticker_yesterday_afternoon_prices\n",
    "    one_week = dpr[-4:]\n",
    "    print(\"One week dpr:\")\n",
    "    print(one_week)\n",
    "    one_week = one_week[~np.isnan(one_week)]\n",
    "    print(f\"25th percentile = {np.quantile(one_week, 0.25)}\")\n",
    "    print(f\"50th percentile = {np.quantile(one_week, 0.5)}\")\n",
    "    print(f\"75th percentile = {np.quantile(one_week, 0.75)}\")"
   ]
  },
  {
   "cell_type": "code",
   "execution_count": 47,
   "metadata": {},
   "outputs": [
    {
     "name": "stdout",
     "output_type": "stream",
     "text": [
      "One week dpr:\n",
      "[0.12367648 0.06040536        nan 0.05333336]\n",
      "25th percentile = 0.05686936092545089\n",
      "50th percentile = 0.060405359907338946\n",
      "75th percentile = 0.092040920487685\n"
     ]
    }
   ],
   "source": [
    "analyze_ticker('OPTT')"
   ]
  },
  {
   "cell_type": "code",
   "execution_count": 53,
   "metadata": {},
   "outputs": [
    {
     "name": "stdout",
     "output_type": "stream",
     "text": [
      "One week dpr:\n",
      "[0.05352114 0.06056342        nan 0.02923974]\n",
      "25th percentile = 0.04138044057113631\n",
      "50th percentile = 0.05352114359790028\n",
      "75th percentile = 0.057042283837792356\n"
     ]
    }
   ],
   "source": [
    "analyze_ticker('SOPH')"
   ]
  },
  {
   "cell_type": "code",
   "execution_count": 54,
   "metadata": {},
   "outputs": [
    {
     "name": "stdout",
     "output_type": "stream",
     "text": [
      "One week dpr:\n",
      "[0.02346039 0.01724136        nan 0.04341537]\n",
      "25th percentile = 0.020350875183137617\n",
      "50th percentile = 0.023460387593088994\n",
      "75th percentile = 0.03343787812067784\n"
     ]
    }
   ],
   "source": [
    "analyze_ticker('BW')"
   ]
  },
  {
   "cell_type": "code",
   "execution_count": null,
   "metadata": {},
   "outputs": [],
   "source": []
  }
 ],
 "metadata": {
  "kernelspec": {
   "display_name": "Python 3.9.12 ('venv': venv)",
   "language": "python",
   "name": "python3"
  },
  "language_info": {
   "codemirror_mode": {
    "name": "ipython",
    "version": 3
   },
   "file_extension": ".py",
   "mimetype": "text/x-python",
   "name": "python",
   "nbconvert_exporter": "python",
   "pygments_lexer": "ipython3",
   "version": "3.9.15 (main, Oct 11 2022, 21:39:54) \n[Clang 14.0.0 (clang-1400.0.29.102)]"
  },
  "orig_nbformat": 4,
  "vscode": {
   "interpreter": {
    "hash": "20b21c936d837e742e41ebc44ab83e320cac441feb34657d9a06bef42daf4960"
   }
  }
 },
 "nbformat": 4,
 "nbformat_minor": 2
}
