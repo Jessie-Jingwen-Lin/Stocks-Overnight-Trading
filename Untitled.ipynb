{
 "cells": [
  {
   "cell_type": "code",
   "execution_count": 47,
   "id": "8f0eecd6-e221-48cf-bd89-181e991e92fa",
   "metadata": {},
   "outputs": [],
   "source": [
    "import numpy as np\n",
    "import pandas as pd\n",
    "import pickle\n",
    "import requests\n",
    "from tqdm import tqdm"
   ]
  },
  {
   "cell_type": "code",
   "execution_count": 48,
   "id": "408904a2-3ca4-4a71-99d2-e091ec7dcd40",
   "metadata": {},
   "outputs": [],
   "source": [
    "with open('temp_all_tickers.pkl', 'rb') as f:\n",
    "    all_tickers = set(pickle.load(f))\n",
    "\n",
    "with open('temp_bad_tickers_nulls.pkl', 'rb') as f:\n",
    "    bad_tickers_nulls = set(pickle.load(f))"
   ]
  },
  {
   "cell_type": "code",
   "execution_count": 49,
   "id": "cc4015fd-b79e-4d77-a6fc-eab3d86a08df",
   "metadata": {},
   "outputs": [
    {
     "data": {
      "text/plain": [
       "9718"
      ]
     },
     "execution_count": 49,
     "metadata": {},
     "output_type": "execute_result"
    }
   ],
   "source": [
    "len(all_tickers)"
   ]
  },
  {
   "cell_type": "code",
   "execution_count": 50,
   "id": "78f1bbb2-e42e-41f0-a418-e7d1c4270c01",
   "metadata": {},
   "outputs": [],
   "source": [
    "non_nulls = all_tickers - bad_tickers_nulls"
   ]
  },
  {
   "cell_type": "code",
   "execution_count": 51,
   "id": "c4226423-a4a3-4aa6-854d-474ff3f9844c",
   "metadata": {},
   "outputs": [
    {
     "data": {
      "text/plain": [
       "8123"
      ]
     },
     "execution_count": 51,
     "metadata": {},
     "output_type": "execute_result"
    }
   ],
   "source": [
    "len(non_nulls)"
   ]
  },
  {
   "cell_type": "code",
   "execution_count": 52,
   "id": "9304e464-2c32-44eb-a3a0-41a9bb68d5f7",
   "metadata": {},
   "outputs": [],
   "source": [
    "bad_name = {t for t in all_tickers if (len(t) >= 5 or not t.isalpha())}"
   ]
  },
  {
   "cell_type": "code",
   "execution_count": 53,
   "id": "7dd5cb2b-8d1b-437a-bc92-43ee9717c3ff",
   "metadata": {},
   "outputs": [],
   "source": [
    "non_null_ok_name = non_nulls - bad_name"
   ]
  },
  {
   "cell_type": "code",
   "execution_count": 54,
   "id": "94380aa3-486f-4ce6-8665-13e65086ec3c",
   "metadata": {},
   "outputs": [
    {
     "data": {
      "text/plain": [
       "7627"
      ]
     },
     "execution_count": 54,
     "metadata": {},
     "output_type": "execute_result"
    }
   ],
   "source": [
    "len(non_null_ok_name)"
   ]
  },
  {
   "cell_type": "code",
   "execution_count": 62,
   "id": "b01c6160-1df3-49e7-9444-1d0eb39e1d78",
   "metadata": {},
   "outputs": [],
   "source": [
    "with open('bad_name_tickers.pkl', 'wb') as f:\n",
    "    pickle.dump(bad_name, f)\n",
    "with open('bad_null_tickers.pkl', 'wb') as f:\n",
    "    pickle.dump(bad_tickers_nulls, f)"
   ]
  },
  {
   "cell_type": "code",
   "execution_count": null,
   "id": "866646aa-7c1f-4251-acc8-3c991ca50bff",
   "metadata": {},
   "outputs": [],
   "source": []
  }
 ],
 "metadata": {
  "kernelspec": {
   "display_name": "Python 3",
   "language": "python",
   "name": "python3"
  },
  "language_info": {
   "codemirror_mode": {
    "name": "ipython",
    "version": 3
   },
   "file_extension": ".py",
   "mimetype": "text/x-python",
   "name": "python",
   "nbconvert_exporter": "python",
   "pygments_lexer": "ipython3",
   "version": "3.9.5"
  }
 },
 "nbformat": 4,
 "nbformat_minor": 5
}
